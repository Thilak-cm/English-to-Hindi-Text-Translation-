{
 "cells": [
  {
   "cell_type": "markdown",
   "id": "b1a03a40",
   "metadata": {},
   "source": [
    "# Text translation: hindi to english"
   ]
  },
  {
   "cell_type": "markdown",
   "id": "d7f7e8e0",
   "metadata": {},
   "source": [
    "## Importing Libraries"
   ]
  },
  {
   "cell_type": "code",
   "execution_count": 34,
   "id": "8170f527",
   "metadata": {
    "ExecuteTime": {
     "end_time": "2022-06-09T11:19:31.616039Z",
     "start_time": "2022-06-09T11:19:31.481943Z"
    }
   },
   "outputs": [],
   "source": [
    "import pandas as pd\n",
    "import numpy as np\n",
    "import seaborn as sns\n",
    "import matplotlib.pyplot as plt\n",
    "import re\n",
    "import nltk\n",
    "from sklearn.model_selection import train_test_split\n",
    "from keras.models import Sequential\n",
    "from keras.layers import Dense, LSTM, Embedding, RepeatVector, TimeDistributed\n",
    "from keras.preprocessing.text import Tokenizer\n",
    "from tensorflow.keras.utils import to_categorical\n",
    "from keras.preprocessing.sequence import pad_sequences\n",
    "from keras.callbacks import EarlyStopping, ModelCheckpoint\n",
    "\n",
    "words = set(nltk.corpus.words.words())\n",
    "%matplotlib inline"
   ]
  },
  {
   "cell_type": "markdown",
   "id": "9ecdf81b",
   "metadata": {},
   "source": [
    "## Importing Dataset"
   ]
  },
  {
   "cell_type": "code",
   "execution_count": 2,
   "id": "e4c6787c",
   "metadata": {
    "ExecuteTime": {
     "end_time": "2022-06-09T11:14:31.178957Z",
     "start_time": "2022-06-09T11:14:25.202944Z"
    }
   },
   "outputs": [],
   "source": [
    "df = pd.read_csv('hindi_english_parallel.csv')"
   ]
  },
  {
   "cell_type": "markdown",
   "id": "e04bb0ae",
   "metadata": {},
   "source": [
    "## EDA"
   ]
  },
  {
   "cell_type": "code",
   "execution_count": 3,
   "id": "03009782",
   "metadata": {
    "ExecuteTime": {
     "end_time": "2022-06-09T11:14:31.207637Z",
     "start_time": "2022-06-09T11:14:31.181867Z"
    }
   },
   "outputs": [
    {
     "data": {
      "text/html": [
       "<div>\n",
       "<style scoped>\n",
       "    .dataframe tbody tr th:only-of-type {\n",
       "        vertical-align: middle;\n",
       "    }\n",
       "\n",
       "    .dataframe tbody tr th {\n",
       "        vertical-align: top;\n",
       "    }\n",
       "\n",
       "    .dataframe thead th {\n",
       "        text-align: right;\n",
       "    }\n",
       "</style>\n",
       "<table border=\"1\" class=\"dataframe\">\n",
       "  <thead>\n",
       "    <tr style=\"text-align: right;\">\n",
       "      <th></th>\n",
       "      <th>hindi</th>\n",
       "      <th>english</th>\n",
       "    </tr>\n",
       "  </thead>\n",
       "  <tbody>\n",
       "    <tr>\n",
       "      <th>0</th>\n",
       "      <td>अपने अनुप्रयोग को पहुंचनीयता व्यायाम का लाभ दें</td>\n",
       "      <td>Give your application an accessibility workout</td>\n",
       "    </tr>\n",
       "    <tr>\n",
       "      <th>1</th>\n",
       "      <td>एक्सेर्साइसर पहुंचनीयता अन्वेषक</td>\n",
       "      <td>Accerciser Accessibility Explorer</td>\n",
       "    </tr>\n",
       "    <tr>\n",
       "      <th>2</th>\n",
       "      <td>निचले पटल के लिए डिफोल्ट प्लग-इन खाका</td>\n",
       "      <td>The default plugin layout for the bottom panel</td>\n",
       "    </tr>\n",
       "    <tr>\n",
       "      <th>3</th>\n",
       "      <td>ऊपरी पटल के लिए डिफोल्ट प्लग-इन खाका</td>\n",
       "      <td>The default plugin layout for the top panel</td>\n",
       "    </tr>\n",
       "    <tr>\n",
       "      <th>4</th>\n",
       "      <td>उन प्लग-इनों की सूची जिन्हें डिफोल्ट रूप से नि...</td>\n",
       "      <td>A list of plugins that are disabled by default</td>\n",
       "    </tr>\n",
       "  </tbody>\n",
       "</table>\n",
       "</div>"
      ],
      "text/plain": [
       "                                               hindi  \\\n",
       "0    अपने अनुप्रयोग को पहुंचनीयता व्यायाम का लाभ दें   \n",
       "1                    एक्सेर्साइसर पहुंचनीयता अन्वेषक   \n",
       "2              निचले पटल के लिए डिफोल्ट प्लग-इन खाका   \n",
       "3               ऊपरी पटल के लिए डिफोल्ट प्लग-इन खाका   \n",
       "4  उन प्लग-इनों की सूची जिन्हें डिफोल्ट रूप से नि...   \n",
       "\n",
       "                                          english  \n",
       "0  Give your application an accessibility workout  \n",
       "1               Accerciser Accessibility Explorer  \n",
       "2  The default plugin layout for the bottom panel  \n",
       "3     The default plugin layout for the top panel  \n",
       "4  A list of plugins that are disabled by default  "
      ]
     },
     "execution_count": 3,
     "metadata": {},
     "output_type": "execute_result"
    }
   ],
   "source": [
    "df.head()"
   ]
  },
  {
   "cell_type": "code",
   "execution_count": 4,
   "id": "b70e713f",
   "metadata": {
    "ExecuteTime": {
     "end_time": "2022-06-09T11:14:33.967682Z",
     "start_time": "2022-06-09T11:14:33.962791Z"
    }
   },
   "outputs": [
    {
     "data": {
      "text/plain": [
       "(1561841, 2)"
      ]
     },
     "execution_count": 4,
     "metadata": {},
     "output_type": "execute_result"
    }
   ],
   "source": [
    "df.shape"
   ]
  },
  {
   "cell_type": "code",
   "execution_count": 5,
   "id": "5578a989",
   "metadata": {
    "ExecuteTime": {
     "end_time": "2022-06-09T11:14:35.182680Z",
     "start_time": "2022-06-09T11:14:34.987024Z"
    }
   },
   "outputs": [
    {
     "name": "stdout",
     "output_type": "stream",
     "text": [
      "<class 'pandas.core.frame.DataFrame'>\n",
      "RangeIndex: 1561841 entries, 0 to 1561840\n",
      "Data columns (total 2 columns):\n",
      " #   Column   Non-Null Count    Dtype \n",
      "---  ------   --------------    ----- \n",
      " 0   hindi    1555785 non-null  object\n",
      " 1   english  1561116 non-null  object\n",
      "dtypes: object(2)\n",
      "memory usage: 23.8+ MB\n"
     ]
    }
   ],
   "source": [
    "df.info(verbose=0)"
   ]
  },
  {
   "cell_type": "code",
   "execution_count": 6,
   "id": "60dcd20f",
   "metadata": {
    "ExecuteTime": {
     "end_time": "2022-06-09T11:14:38.251945Z",
     "start_time": "2022-06-09T11:14:35.336945Z"
    }
   },
   "outputs": [
    {
     "data": {
      "text/html": [
       "<div>\n",
       "<style scoped>\n",
       "    .dataframe tbody tr th:only-of-type {\n",
       "        vertical-align: middle;\n",
       "    }\n",
       "\n",
       "    .dataframe tbody tr th {\n",
       "        vertical-align: top;\n",
       "    }\n",
       "\n",
       "    .dataframe thead th {\n",
       "        text-align: right;\n",
       "    }\n",
       "</style>\n",
       "<table border=\"1\" class=\"dataframe\">\n",
       "  <thead>\n",
       "    <tr style=\"text-align: right;\">\n",
       "      <th></th>\n",
       "      <th>count</th>\n",
       "      <th>unique</th>\n",
       "      <th>top</th>\n",
       "      <th>freq</th>\n",
       "    </tr>\n",
       "  </thead>\n",
       "  <tbody>\n",
       "    <tr>\n",
       "      <th>hindi</th>\n",
       "      <td>1555785</td>\n",
       "      <td>983939</td>\n",
       "      <td>Name</td>\n",
       "      <td>1093</td>\n",
       "    </tr>\n",
       "    <tr>\n",
       "      <th>english</th>\n",
       "      <td>1561116</td>\n",
       "      <td>1015945</td>\n",
       "      <td>Your names</td>\n",
       "      <td>363</td>\n",
       "    </tr>\n",
       "  </tbody>\n",
       "</table>\n",
       "</div>"
      ],
      "text/plain": [
       "           count   unique         top  freq\n",
       "hindi    1555785   983939        Name  1093\n",
       "english  1561116  1015945  Your names   363"
      ]
     },
     "execution_count": 6,
     "metadata": {},
     "output_type": "execute_result"
    }
   ],
   "source": [
    "df.describe().T"
   ]
  },
  {
   "cell_type": "code",
   "execution_count": 7,
   "id": "1e20c73a",
   "metadata": {
    "ExecuteTime": {
     "end_time": "2022-06-09T11:14:39.068810Z",
     "start_time": "2022-06-09T11:14:38.254439Z"
    }
   },
   "outputs": [
    {
     "data": {
      "text/plain": [
       "203501"
      ]
     },
     "execution_count": 7,
     "metadata": {},
     "output_type": "execute_result"
    }
   ],
   "source": [
    "df.duplicated().sum()"
   ]
  },
  {
   "cell_type": "code",
   "execution_count": 8,
   "id": "435a7e09",
   "metadata": {
    "ExecuteTime": {
     "end_time": "2022-06-09T11:14:39.218286Z",
     "start_time": "2022-06-09T11:14:39.071710Z"
    }
   },
   "outputs": [
    {
     "data": {
      "text/html": [
       "<div>\n",
       "<style scoped>\n",
       "    .dataframe tbody tr th:only-of-type {\n",
       "        vertical-align: middle;\n",
       "    }\n",
       "\n",
       "    .dataframe tbody tr th {\n",
       "        vertical-align: top;\n",
       "    }\n",
       "\n",
       "    .dataframe thead th {\n",
       "        text-align: right;\n",
       "    }\n",
       "</style>\n",
       "<table border=\"1\" class=\"dataframe\">\n",
       "  <thead>\n",
       "    <tr style=\"text-align: right;\">\n",
       "      <th></th>\n",
       "      <th>hindi</th>\n",
       "      <th>english</th>\n",
       "    </tr>\n",
       "  </thead>\n",
       "  <tbody>\n",
       "    <tr>\n",
       "      <th>146241</th>\n",
       "      <td>Name</td>\n",
       "      <td>A download from a camera or other device has f...</td>\n",
       "    </tr>\n",
       "    <tr>\n",
       "      <th>146243</th>\n",
       "      <td>Name</td>\n",
       "      <td>A queue in the batch queue manager has been co...</td>\n",
       "    </tr>\n",
       "    <tr>\n",
       "      <th>146245</th>\n",
       "      <td>Name</td>\n",
       "      <td>The update of the fingerprint database has bee...</td>\n",
       "    </tr>\n",
       "    <tr>\n",
       "      <th>146247</th>\n",
       "      <td>Name</td>\n",
       "      <td>The update of the thumbnails database has been...</td>\n",
       "    </tr>\n",
       "    <tr>\n",
       "      <th>146384</th>\n",
       "      <td>Name</td>\n",
       "      <td>Acquire Images</td>\n",
       "    </tr>\n",
       "    <tr>\n",
       "      <th>...</th>\n",
       "      <td>...</td>\n",
       "      <td>...</td>\n",
       "    </tr>\n",
       "    <tr>\n",
       "      <th>241847</th>\n",
       "      <td>Name</td>\n",
       "      <td>WorKflow support for the Kate editor</td>\n",
       "    </tr>\n",
       "    <tr>\n",
       "      <th>241849</th>\n",
       "      <td>Name</td>\n",
       "      <td>WorKflow file command library</td>\n",
       "    </tr>\n",
       "    <tr>\n",
       "      <th>241851</th>\n",
       "      <td>Name</td>\n",
       "      <td>WorKflow command library for image manipulation</td>\n",
       "    </tr>\n",
       "    <tr>\n",
       "      <th>241853</th>\n",
       "      <td>Name</td>\n",
       "      <td>WorKflow command library for text manipulation</td>\n",
       "    </tr>\n",
       "    <tr>\n",
       "      <th>241855</th>\n",
       "      <td>Name</td>\n",
       "      <td>Standard WorKflow command library</td>\n",
       "    </tr>\n",
       "  </tbody>\n",
       "</table>\n",
       "<p>1093 rows × 2 columns</p>\n",
       "</div>"
      ],
      "text/plain": [
       "       hindi                                            english\n",
       "146241  Name  A download from a camera or other device has f...\n",
       "146243  Name  A queue in the batch queue manager has been co...\n",
       "146245  Name  The update of the fingerprint database has bee...\n",
       "146247  Name  The update of the thumbnails database has been...\n",
       "146384  Name                                     Acquire Images\n",
       "...      ...                                                ...\n",
       "241847  Name               WorKflow support for the Kate editor\n",
       "241849  Name                      WorKflow file command library\n",
       "241851  Name    WorKflow command library for image manipulation\n",
       "241853  Name     WorKflow command library for text manipulation\n",
       "241855  Name                  Standard WorKflow command library\n",
       "\n",
       "[1093 rows x 2 columns]"
      ]
     },
     "execution_count": 8,
     "metadata": {},
     "output_type": "execute_result"
    }
   ],
   "source": [
    "df[df['hindi'] == 'Name']"
   ]
  },
  {
   "cell_type": "markdown",
   "id": "c8aa16e1",
   "metadata": {},
   "source": [
    "## Dataset Cleaning"
   ]
  },
  {
   "cell_type": "code",
   "execution_count": 9,
   "id": "3ab8f36f",
   "metadata": {
    "ExecuteTime": {
     "end_time": "2022-06-09T11:14:39.479203Z",
     "start_time": "2022-06-09T11:14:39.475217Z"
    }
   },
   "outputs": [],
   "source": [
    "def remove_english(sent):\n",
    "    return \" \".join([x for x in sent.split() if x.lower() not in words])"
   ]
  },
  {
   "cell_type": "code",
   "execution_count": 10,
   "id": "2c96170f",
   "metadata": {
    "ExecuteTime": {
     "end_time": "2022-06-09T11:14:40.350643Z",
     "start_time": "2022-06-09T11:14:40.070342Z"
    }
   },
   "outputs": [],
   "source": [
    "df.dropna(inplace=True)"
   ]
  },
  {
   "cell_type": "code",
   "execution_count": 11,
   "id": "eff3b08a",
   "metadata": {
    "ExecuteTime": {
     "end_time": "2022-06-09T11:14:51.031459Z",
     "start_time": "2022-06-09T11:14:40.394805Z"
    }
   },
   "outputs": [],
   "source": [
    "df['hindi'] = df['hindi'].apply(remove_english)\n",
    "df.drop_duplicates(inplace=True)\n",
    "df.dropna(inplace=True)"
   ]
  },
  {
   "cell_type": "code",
   "execution_count": 12,
   "id": "c9d8e481",
   "metadata": {
    "ExecuteTime": {
     "end_time": "2022-06-09T11:14:53.625730Z",
     "start_time": "2022-06-09T11:14:51.034375Z"
    }
   },
   "outputs": [
    {
     "data": {
      "text/html": [
       "<div>\n",
       "<style scoped>\n",
       "    .dataframe tbody tr th:only-of-type {\n",
       "        vertical-align: middle;\n",
       "    }\n",
       "\n",
       "    .dataframe tbody tr th {\n",
       "        vertical-align: top;\n",
       "    }\n",
       "\n",
       "    .dataframe thead th {\n",
       "        text-align: right;\n",
       "    }\n",
       "</style>\n",
       "<table border=\"1\" class=\"dataframe\">\n",
       "  <thead>\n",
       "    <tr style=\"text-align: right;\">\n",
       "      <th></th>\n",
       "      <th>count</th>\n",
       "      <th>unique</th>\n",
       "      <th>top</th>\n",
       "      <th>freq</th>\n",
       "    </tr>\n",
       "  </thead>\n",
       "  <tbody>\n",
       "    <tr>\n",
       "      <th>hindi</th>\n",
       "      <td>1331153</td>\n",
       "      <td>955290</td>\n",
       "      <td></td>\n",
       "      <td>2401</td>\n",
       "    </tr>\n",
       "    <tr>\n",
       "      <th>english</th>\n",
       "      <td>1331153</td>\n",
       "      <td>1011562</td>\n",
       "      <td>light</td>\n",
       "      <td>123</td>\n",
       "    </tr>\n",
       "  </tbody>\n",
       "</table>\n",
       "</div>"
      ],
      "text/plain": [
       "           count   unique    top  freq\n",
       "hindi    1331153   955290         2401\n",
       "english  1331153  1011562  light   123"
      ]
     },
     "execution_count": 12,
     "metadata": {},
     "output_type": "execute_result"
    }
   ],
   "source": [
    "df.describe().T"
   ]
  },
  {
   "cell_type": "code",
   "execution_count": 13,
   "id": "fbcd572d",
   "metadata": {
    "ExecuteTime": {
     "end_time": "2022-06-09T11:14:53.808092Z",
     "start_time": "2022-06-09T11:14:53.628578Z"
    }
   },
   "outputs": [
    {
     "name": "stdout",
     "output_type": "stream",
     "text": [
      "<class 'pandas.core.frame.DataFrame'>\n",
      "Int64Index: 1331153 entries, 0 to 1561839\n",
      "Data columns (total 2 columns):\n",
      " #   Column   Non-Null Count    Dtype \n",
      "---  ------   --------------    ----- \n",
      " 0   hindi    1331153 non-null  object\n",
      " 1   english  1331153 non-null  object\n",
      "dtypes: object(2)\n",
      "memory usage: 30.5+ MB\n"
     ]
    }
   ],
   "source": [
    "df.info()"
   ]
  },
  {
   "cell_type": "code",
   "execution_count": 14,
   "id": "b8c9a78e",
   "metadata": {
    "ExecuteTime": {
     "end_time": "2022-06-09T11:14:54.381625Z",
     "start_time": "2022-06-09T11:14:53.810344Z"
    }
   },
   "outputs": [],
   "source": [
    "df['english'] = df['english'].apply(lambda x: x.lower())"
   ]
  },
  {
   "cell_type": "code",
   "execution_count": 15,
   "id": "dd999467",
   "metadata": {
    "ExecuteTime": {
     "end_time": "2022-06-09T11:15:02.243945Z",
     "start_time": "2022-06-09T11:14:54.384508Z"
    }
   },
   "outputs": [
    {
     "data": {
      "text/plain": [
       "<AxesSubplot:xlabel='hindi', ylabel='Count'>"
      ]
     },
     "execution_count": 15,
     "metadata": {},
     "output_type": "execute_result"
    },
    {
     "data": {
      "image/png": "[encoded data removed]",
      "text/plain": [
       "<Figure size 1080x432 with 1 Axes>"
      ]
     },
     "metadata": {
      "needs_background": "light"
     },
     "output_type": "display_data"
    }
   ],
   "source": [
    "plt.figure(figsize=(15, 6))\n",
    "sns.histplot(df['hindi'].apply(len))"
   ]
  },
  {
   "cell_type": "code",
   "execution_count": 16,
   "id": "91a3743b",
   "metadata": {
    "ExecuteTime": {
     "end_time": "2022-06-09T11:15:02.971769Z",
     "start_time": "2022-06-09T11:15:02.246585Z"
    }
   },
   "outputs": [
    {
     "data": {
      "text/plain": [
       "<AxesSubplot:xlabel='english'>"
      ]
     },
     "execution_count": 16,
     "metadata": {},
     "output_type": "execute_result"
    },
    {
     "data": {
      "image/png": "[encoded data removed]",
      "text/plain": [
       "<Figure size 432x288 with 1 Axes>"
      ]
     },
     "metadata": {
      "needs_background": "light"
     },
     "output_type": "display_data"
    }
   ],
   "source": [
    "sns.boxenplot(x=df['english'].apply(len))"
   ]
  },
  {
   "cell_type": "code",
   "execution_count": 17,
   "id": "b9ccc6c3",
   "metadata": {
    "ExecuteTime": {
     "end_time": "2022-06-09T11:15:06.155480Z",
     "start_time": "2022-06-09T11:15:05.648507Z"
    }
   },
   "outputs": [],
   "source": [
    "idx = df[df['hindi'].apply(len) > 1000].index\n",
    "df.drop(idx, inplace=True)"
   ]
  },
  {
   "cell_type": "code",
   "execution_count": 18,
   "id": "3700d663",
   "metadata": {
    "ExecuteTime": {
     "end_time": "2022-06-09T11:15:09.507099Z",
     "start_time": "2022-06-09T11:15:07.867815Z"
    }
   },
   "outputs": [
    {
     "data": {
      "text/plain": [
       "<AxesSubplot:xlabel='hindi', ylabel='Count'>"
      ]
     },
     "execution_count": 18,
     "metadata": {},
     "output_type": "execute_result"
    },
    {
     "data": {
      "image/png": "[encoded data removed]",
      "text/plain": [
       "<Figure size 1080x432 with 1 Axes>"
      ]
     },
     "metadata": {
      "needs_background": "light"
     },
     "output_type": "display_data"
    }
   ],
   "source": [
    "plt.figure(figsize=(15, 6))\n",
    "sns.histplot(df['hindi'].apply(len))"
   ]
  },
  {
   "cell_type": "code",
   "execution_count": 19,
   "id": "eabb5d6f",
   "metadata": {
    "ExecuteTime": {
     "end_time": "2022-06-09T11:15:10.339263Z",
     "start_time": "2022-06-09T11:15:10.329717Z"
    }
   },
   "outputs": [
    {
     "data": {
      "text/html": [
       "<div>\n",
       "<style scoped>\n",
       "    .dataframe tbody tr th:only-of-type {\n",
       "        vertical-align: middle;\n",
       "    }\n",
       "\n",
       "    .dataframe tbody tr th {\n",
       "        vertical-align: top;\n",
       "    }\n",
       "\n",
       "    .dataframe thead th {\n",
       "        text-align: right;\n",
       "    }\n",
       "</style>\n",
       "<table border=\"1\" class=\"dataframe\">\n",
       "  <thead>\n",
       "    <tr style=\"text-align: right;\">\n",
       "      <th></th>\n",
       "      <th>hindi</th>\n",
       "      <th>english</th>\n",
       "    </tr>\n",
       "  </thead>\n",
       "  <tbody>\n",
       "    <tr>\n",
       "      <th>0</th>\n",
       "      <td>अपने अनुप्रयोग को पहुंचनीयता व्यायाम का लाभ दें</td>\n",
       "      <td>give your application an accessibility workout</td>\n",
       "    </tr>\n",
       "    <tr>\n",
       "      <th>1</th>\n",
       "      <td>एक्सेर्साइसर पहुंचनीयता अन्वेषक</td>\n",
       "      <td>accerciser accessibility explorer</td>\n",
       "    </tr>\n",
       "    <tr>\n",
       "      <th>2</th>\n",
       "      <td>निचले पटल के लिए डिफोल्ट प्लग-इन खाका</td>\n",
       "      <td>the default plugin layout for the bottom panel</td>\n",
       "    </tr>\n",
       "    <tr>\n",
       "      <th>3</th>\n",
       "      <td>ऊपरी पटल के लिए डिफोल्ट प्लग-इन खाका</td>\n",
       "      <td>the default plugin layout for the top panel</td>\n",
       "    </tr>\n",
       "    <tr>\n",
       "      <th>4</th>\n",
       "      <td>उन प्लग-इनों की सूची जिन्हें डिफोल्ट रूप से नि...</td>\n",
       "      <td>a list of plugins that are disabled by default</td>\n",
       "    </tr>\n",
       "  </tbody>\n",
       "</table>\n",
       "</div>"
      ],
      "text/plain": [
       "                                               hindi  \\\n",
       "0    अपने अनुप्रयोग को पहुंचनीयता व्यायाम का लाभ दें   \n",
       "1                    एक्सेर्साइसर पहुंचनीयता अन्वेषक   \n",
       "2              निचले पटल के लिए डिफोल्ट प्लग-इन खाका   \n",
       "3               ऊपरी पटल के लिए डिफोल्ट प्लग-इन खाका   \n",
       "4  उन प्लग-इनों की सूची जिन्हें डिफोल्ट रूप से नि...   \n",
       "\n",
       "                                          english  \n",
       "0  give your application an accessibility workout  \n",
       "1               accerciser accessibility explorer  \n",
       "2  the default plugin layout for the bottom panel  \n",
       "3     the default plugin layout for the top panel  \n",
       "4  a list of plugins that are disabled by default  "
      ]
     },
     "execution_count": 19,
     "metadata": {},
     "output_type": "execute_result"
    }
   ],
   "source": [
    "df.head()"
   ]
  },
  {
   "cell_type": "markdown",
   "id": "1a9218d8",
   "metadata": {},
   "source": [
    "## Train Test Split"
   ]
  },
  {
   "cell_type": "code",
   "execution_count": 20,
   "id": "a6343630",
   "metadata": {
    "ExecuteTime": {
     "end_time": "2022-06-09T11:15:12.989362Z",
     "start_time": "2022-06-09T11:15:12.669826Z"
    }
   },
   "outputs": [],
   "source": [
    "df = df.sample(n=500000, random_state=42)"
   ]
  },
  {
   "cell_type": "code",
   "execution_count": 21,
   "id": "f660d9cc",
   "metadata": {
    "ExecuteTime": {
     "end_time": "2022-06-09T11:15:13.534538Z",
     "start_time": "2022-06-09T11:15:13.357548Z"
    }
   },
   "outputs": [],
   "source": [
    "X = df['hindi']\n",
    "y= df['english']\n",
    "X_train, X_test, y_train, y_test = train_test_split(X, y, test_size=0.3, random_state=42)"
   ]
  },
  {
   "cell_type": "code",
   "execution_count": 22,
   "id": "4cf7d3fa",
   "metadata": {
    "ExecuteTime": {
     "end_time": "2022-06-09T11:15:14.867938Z",
     "start_time": "2022-06-09T11:15:14.862582Z"
    }
   },
   "outputs": [
    {
     "data": {
      "text/plain": [
       "145881                              increase expansion level\n",
       "1144305    any innovation due to an industrial applicatio...\n",
       "904025                               commercial exploitation\n",
       "802441                                              entrance\n",
       "1348320                          by now it was getting dark.\n",
       "Name: english, dtype: object"
      ]
     },
     "execution_count": 22,
     "metadata": {},
     "output_type": "execute_result"
    }
   ],
   "source": [
    "y.head()"
   ]
  },
  {
   "cell_type": "markdown",
   "id": "9c141b07",
   "metadata": {},
   "source": [
    "## Encoding train and test sets"
   ]
  },
  {
   "cell_type": "code",
   "execution_count": 23,
   "id": "c3145a5e",
   "metadata": {
    "ExecuteTime": {
     "end_time": "2022-06-09T11:16:10.771865Z",
     "start_time": "2022-06-09T11:16:10.767423Z"
    }
   },
   "outputs": [],
   "source": [
    "# may take up to 33 seconds\n",
    "def create_tokenizer(lines):\n",
    "    tokenizer = Tokenizer()\n",
    "    tokenizer.fit_on_texts(str(lines))\n",
    "    return tokenizer"
   ]
  },
  {
   "cell_type": "code",
   "execution_count": 24,
   "id": "f382659e",
   "metadata": {
    "ExecuteTime": {
     "end_time": "2022-06-09T11:16:11.210054Z",
     "start_time": "2022-06-09T11:16:11.194061Z"
    }
   },
   "outputs": [],
   "source": [
    "# may take up to 50 seconds\n",
    "hin_tokenizer = create_tokenizer(X)\n",
    "hin_vocab_size = len(hin_tokenizer.word_index) + 1\n",
    "\n",
    "eng_tokenizer = create_tokenizer(y)\n",
    "eng_vocab_size = len(eng_tokenizer.word_index) + 1"
   ]
  },
  {
   "cell_type": "code",
   "execution_count": 25,
   "id": "84e548b8",
   "metadata": {
    "ExecuteTime": {
     "end_time": "2022-06-09T11:16:45.342466Z",
     "start_time": "2022-06-09T11:16:45.338712Z"
    }
   },
   "outputs": [],
   "source": [
    "def encode_sequences(tokenizer, lines):\n",
    "    X = tokenizer.texts_to_sequences(str(lines))\n",
    "    X = pad_sequences(X, padding='post')\n",
    "    return X"
   ]
  },
  {
   "cell_type": "code",
   "execution_count": 26,
   "id": "f4b32763",
   "metadata": {
    "ExecuteTime": {
     "end_time": "2022-06-09T11:16:45.775186Z",
     "start_time": "2022-06-09T11:16:45.770224Z"
    }
   },
   "outputs": [],
   "source": [
    "def encode_output(sequences, vocab_size):\n",
    "    ylist = list()\n",
    "    for seq in sequences:\n",
    "        encoded = to_categorical(seq, num_classes=vocab_size)\n",
    "        ylist.append(encoded)\n",
    "    y = np.array(ylist)\n",
    "    y = y.reshape(sequences.shape[0], sequences.shape[1], vocab_size)\n",
    "    \n",
    "    return y"
   ]
  },
  {
   "cell_type": "code",
   "execution_count": 27,
   "id": "47ec8b8b",
   "metadata": {
    "ExecuteTime": {
     "end_time": "2022-06-09T11:16:51.955010Z",
     "start_time": "2022-06-09T11:16:51.949111Z"
    }
   },
   "outputs": [
    {
     "data": {
      "text/plain": [
       "350000"
      ]
     },
     "execution_count": 27,
     "metadata": {},
     "output_type": "execute_result"
    }
   ],
   "source": [
    "len(X_train)"
   ]
  },
  {
   "cell_type": "code",
   "execution_count": 28,
   "id": "2ae9f15b",
   "metadata": {
    "ExecuteTime": {
     "end_time": "2022-06-09T11:16:53.262174Z",
     "start_time": "2022-06-09T11:16:52.645466Z"
    }
   },
   "outputs": [],
   "source": [
    "# prepare training data\n",
    "trainX = encode_sequences(hin_tokenizer, X_train)\n",
    "trainY = encode_sequences(eng_tokenizer, X_test)\n",
    "trainY = encode_output(trainY, eng_vocab_size)\n",
    "# prepare validation data\n",
    "testX = encode_sequences(hin_tokenizer, y_train)\n",
    "testY = encode_sequences(eng_tokenizer, y_test)\n",
    "testY = encode_output(testY, eng_vocab_size)"
   ]
  },
  {
   "cell_type": "markdown",
   "id": "764d32d5",
   "metadata": {},
   "source": [
    "## Training NN model"
   ]
  },
  {
   "cell_type": "code",
   "execution_count": 59,
   "id": "06f600d4",
   "metadata": {
    "ExecuteTime": {
     "end_time": "2022-06-09T11:33:33.941546Z",
     "start_time": "2022-06-09T11:33:33.936311Z"
    }
   },
   "outputs": [],
   "source": [
    "def define_model(hin_vocab_size, eng_vocab_size, hin_len, eng_len, n):\n",
    "    model = Sequential()\n",
    "    model.add(Embedding(hin_vocab_size, n, input_length=hin_len, mask_zero=True))\n",
    "    model.add(LSTM(n))\n",
    "    model.add(RepeatVector(eng_len))\n",
    "    model.add(LSTM(n, return_sequences=True))\n",
    "    model.add(TimeDistributed(Dense(eng_vocab_size, activation='softmax')))\n",
    "    \n",
    "    # compile the model\n",
    "    model.compile(optimizer='adam', loss='categorical_crossentropy')\n",
    "    \n",
    "    # summarize the model\n",
    "    model.summary()\n",
    "    return model"
   ]
  },
  {
   "cell_type": "code",
   "execution_count": 60,
   "id": "c1240753",
   "metadata": {
    "ExecuteTime": {
     "end_time": "2022-06-09T11:33:35.107886Z",
     "start_time": "2022-06-09T11:33:34.317152Z"
    }
   },
   "outputs": [
    {
     "name": "stdout",
     "output_type": "stream",
     "text": [
      "Model: \"sequential_5\"\n",
      "_________________________________________________________________\n",
      "Layer (type)                 Output Shape              Param #   \n",
      "=================================================================\n",
      "embedding_5 (Embedding)      (None, 500000, 256)       19200     \n",
      "_________________________________________________________________\n",
      "lstm_10 (LSTM)               (None, 256)               525312    \n",
      "_________________________________________________________________\n",
      "repeat_vector_5 (RepeatVecto (None, 1, 256)            0         \n",
      "_________________________________________________________________\n",
      "lstm_11 (LSTM)               (None, 1, 256)            525312    \n",
      "_________________________________________________________________\n",
      "time_distributed_4 (TimeDist (None, 1, 35)             8995      \n",
      "=================================================================\n",
      "Total params: 1,078,819\n",
      "Trainable params: 1,078,819\n",
      "Non-trainable params: 0\n",
      "_________________________________________________________________\n"
     ]
    }
   ],
   "source": [
    "model = define_model(hin_vocab_size, eng_vocab_size, len(X), 1, 256)"
   ]
  },
  {
   "cell_type": "code",
   "execution_count": 61,
   "id": "73782059",
   "metadata": {
    "ExecuteTime": {
     "end_time": "2022-06-09T11:33:35.114285Z",
     "start_time": "2022-06-09T11:33:35.110998Z"
    }
   },
   "outputs": [],
   "source": [
    "early_stop = EarlyStopping(monitor='val_loss', patience=5, mode='min', verbose=1)\n",
    "checkpoint = ModelCheckpoint('model.h5', monitor='val_loss', verbose=1, save_best_only=True, mode='min')"
   ]
  },
  {
   "cell_type": "code",
   "execution_count": 63,
   "id": "f636f456",
   "metadata": {
    "ExecuteTime": {
     "end_time": "2022-06-09T11:34:13.912375Z",
     "start_time": "2022-06-09T11:34:12.957185Z"
    }
   },
   "outputs": [
    {
     "name": "stdout",
     "output_type": "stream",
     "text": [
      "Epoch 1/50\n",
      "12/12 [==============================] - 0s 19ms/step - loss: 0.2381 - val_loss: 4.9900\n",
      "\n",
      "Epoch 00001: val_loss did not improve from 3.31592\n",
      "Epoch 2/50\n",
      "12/12 [==============================] - 0s 11ms/step - loss: 0.2362 - val_loss: 5.0100\n",
      "\n",
      "Epoch 00002: val_loss did not improve from 3.31592\n",
      "Epoch 3/50\n",
      "12/12 [==============================] - 0s 12ms/step - loss: 0.2331 - val_loss: 5.0221\n",
      "\n",
      "Epoch 00003: val_loss did not improve from 3.31592\n",
      "Epoch 4/50\n",
      "12/12 [==============================] - 0s 11ms/step - loss: 0.2313 - val_loss: 5.0397\n",
      "\n",
      "Epoch 00004: val_loss did not improve from 3.31592\n",
      "Epoch 5/50\n",
      "12/12 [==============================] - 0s 11ms/step - loss: 0.2299 - val_loss: 5.0534\n",
      "\n",
      "Epoch 00005: val_loss did not improve from 3.31592\n",
      "Epoch 6/50\n",
      "12/12 [==============================] - 0s 12ms/step - loss: 0.2262 - val_loss: 5.0675\n",
      "\n",
      "Epoch 00006: val_loss did not improve from 3.31592\n",
      "Epoch 00006: early stopping\n"
     ]
    },
    {
     "data": {
      "text/plain": [
       "<keras.callbacks.History at 0x7fcf9a416340>"
      ]
     },
     "execution_count": 63,
     "metadata": {},
     "output_type": "execute_result"
    }
   ],
   "source": [
    "model.fit(trainX, trainY, epochs=50, batch_size=64, validation_data=(testX, testY), callbacks=[early_stop, checkpoint])"
   ]
  },
  {
   "cell_type": "code",
   "execution_count": 37,
   "id": "99f6d825",
   "metadata": {
    "ExecuteTime": {
     "end_time": "2022-06-09T11:21:12.520854Z",
     "start_time": "2022-06-09T11:21:12.515862Z"
    }
   },
   "outputs": [
    {
     "data": {
      "text/plain": [
       "(713, 1)"
      ]
     },
     "execution_count": 37,
     "metadata": {},
     "output_type": "execute_result"
    }
   ],
   "source": [
    "trainX.shape"
   ]
  },
  {
   "cell_type": "code",
   "execution_count": 38,
   "id": "a89f3034",
   "metadata": {
    "ExecuteTime": {
     "end_time": "2022-06-09T11:21:16.900424Z",
     "start_time": "2022-06-09T11:21:16.895472Z"
    }
   },
   "outputs": [
    {
     "data": {
      "text/plain": [
       "(713, 1, 35)"
      ]
     },
     "execution_count": 38,
     "metadata": {},
     "output_type": "execute_result"
    }
   ],
   "source": [
    "trainY.shape"
   ]
  },
  {
   "cell_type": "code",
   "execution_count": 39,
   "id": "b9f258a9",
   "metadata": {
    "ExecuteTime": {
     "end_time": "2022-06-09T11:21:29.446973Z",
     "start_time": "2022-06-09T11:21:29.442461Z"
    }
   },
   "outputs": [
    {
     "data": {
      "text/plain": [
       "(715, 1)"
      ]
     },
     "execution_count": 39,
     "metadata": {},
     "output_type": "execute_result"
    }
   ],
   "source": [
    "testX.shape"
   ]
  },
  {
   "cell_type": "code",
   "execution_count": 40,
   "id": "16b39309",
   "metadata": {
    "ExecuteTime": {
     "end_time": "2022-06-09T11:21:32.956052Z",
     "start_time": "2022-06-09T11:21:32.950681Z"
    }
   },
   "outputs": [
    {
     "data": {
      "text/plain": [
       "(715, 1, 35)"
      ]
     },
     "execution_count": 40,
     "metadata": {},
     "output_type": "execute_result"
    }
   ],
   "source": [
    "testY.shape"
   ]
  },
  {
   "cell_type": "code",
   "execution_count": 42,
   "id": "4dcff01f",
   "metadata": {
    "ExecuteTime": {
     "end_time": "2022-06-09T11:27:55.690879Z",
     "start_time": "2022-06-09T11:27:55.684406Z"
    }
   },
   "outputs": [
    {
     "data": {
      "text/plain": [
       "500000"
      ]
     },
     "execution_count": 42,
     "metadata": {},
     "output_type": "execute_result"
    }
   ],
   "source": [
    "len(X)"
   ]
  },
  {
   "cell_type": "code",
   "execution_count": 43,
   "id": "23d8fa35",
   "metadata": {
    "ExecuteTime": {
     "end_time": "2022-06-09T11:27:58.106562Z",
     "start_time": "2022-06-09T11:27:58.101686Z"
    }
   },
   "outputs": [
    {
     "data": {
      "text/plain": [
       "500000"
      ]
     },
     "execution_count": 43,
     "metadata": {},
     "output_type": "execute_result"
    }
   ],
   "source": [
    "len(y)"
   ]
  }
 ],
 "metadata": {
  "kernelspec": {
   "display_name": "Python 3",
   "language": "python",
   "name": "python3"
  },
  "language_info": {
   "codemirror_mode": {
    "name": "ipython",
    "version": 3
   },
   "file_extension": ".py",
   "mimetype": "text/x-python",
   "name": "python",
   "nbconvert_exporter": "python",
   "pygments_lexer": "ipython3",
   "version": "3.8.8"
  }
 },
 "nbformat": 4,
 "nbformat_minor": 5
}
